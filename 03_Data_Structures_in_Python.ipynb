{
 "cells": [
  {
   "cell_type": "markdown",
   "metadata": {},
   "source": [
    "# Binary Trees"
   ]
  },
  {
   "cell_type": "code",
   "execution_count": 39,
   "metadata": {},
   "outputs": [],
   "source": [
    "class Queue(object):\n",
    "    def __init__(self):\n",
    "        self.items = []\n",
    "    def enqueue(self, item):\n",
    "        self.items.insert(0,item)\n",
    "        \n",
    "    def dequeue(self):\n",
    "        if not self.is_empty():\n",
    "            return self.items.pop()\n",
    "        \n",
    "    def is_empty(self):\n",
    "        return len(self.items) == 0\n",
    "    \n",
    "    def peek(self):\n",
    "        if not self.is_empty():\n",
    "            return self.items[-1].data\n",
    "        \n",
    "    def __len__(self):\n",
    "        return self.size()\n",
    "    \n",
    "    def size(self):\n",
    "        return len(self.items)\n",
    "        "
   ]
  },
  {
   "cell_type": "code",
   "execution_count": 40,
   "metadata": {},
   "outputs": [],
   "source": [
    "class Node(object):\n",
    "    def __init__(self, data):\n",
    "        self.data = data\n",
    "        self.left = None\n",
    "        self.right = None\n",
    "\n",
    "class Binary_Tree(object):\n",
    "    def __init__(self, root):\n",
    "        self.root = Node(root)\n",
    "    \n",
    "    def print_preorder(self, start, traversal):\n",
    "        if start:\n",
    "            traversal += (str(start.data) + \"->\")\n",
    "            traversal = self.print_preorder(start.left, traversal)\n",
    "            traversal = self.print_preorder(start.right, traversal)\n",
    "        return traversal\n",
    "    \n",
    "    def print_inorder(self, start, traversal):\n",
    "        if start:\n",
    "            traversal = self.print_inorder(start.left, traversal)\n",
    "            traversal += (str(start.data) + \"->\")\n",
    "            traversal = self.print_inorder(start.right, traversal)\n",
    "        return traversal\n",
    "    \n",
    "    def print_postorder(self, start, traversal):\n",
    "        if start:\n",
    "            traversal = self.print_postorder(start.left, traversal)\n",
    "            traversal = self.print_postorder(start.right, traversal)\n",
    "            traversal += (str(start.data) + \"->\")\n",
    "        return traversal\n",
    "    \n",
    "    def print_levelorder(self, start):\n",
    "        if start is None:\n",
    "            return\n",
    "        queue = Queue()\n",
    "        queue.enqueue(start)\n",
    "        \n",
    "        traversal = \"\"\n",
    "        while len(queue) > 0: # our overwritten len, to get the size of queue\n",
    "            traversal += str(queue.peek()) + \"->\"\n",
    "            node = queue.dequeue()\n",
    "            if node.left:\n",
    "                queue.enqueue(node.left)\n",
    "            if node.right:\n",
    "                queue.enqueue(node.right)\n",
    "        return traversal\n",
    "                 \n",
    "    \n",
    "    def print_tree(self, traversal_type):\n",
    "        if traversal_type == \"preorder\":\n",
    "            return self.print_preorder(tree.root, \"\")\n",
    "        elif traversal_type == \"inorder\":\n",
    "            return self.print_inorder(tree.root, \"\")\n",
    "        elif traversal_type == \"postorder\":\n",
    "            return self.print_postorder(tree.root, \"\")\n",
    "        elif traversal_type ==\"levelorder\":\n",
    "            return self.print_levelorder(tree.root)\n",
    "    \n",
    "        \n",
    "tree = Binary_Tree('A')\n",
    "tree.root.left = Node('B')\n",
    "tree.root.right = Node('C')\n",
    "tree.root.left.left = Node('D')\n",
    "tree.root.left.right = Node('E')\n",
    "tree.root.right.left = Node('F')"
   ]
  },
  {
   "cell_type": "code",
   "execution_count": 41,
   "metadata": {},
   "outputs": [
    {
     "name": "stdout",
     "output_type": "stream",
     "text": [
      "Preorder:  A->B->D->E->C->F->\n",
      "Inorder:  D->B->E->A->F->C->\n",
      "Postorcder:  D->E->B->F->C->A->\n",
      "Leverorder:  A->B->C->D->E->F->\n"
     ]
    }
   ],
   "source": [
    "print(\"Preorder: \", tree.print_tree(\"preorder\"))\n",
    "print(\"Inorder: \", tree.print_tree(\"inorder\"))\n",
    "print(\"Postorcder: \", tree.print_tree(\"postorder\"))\n",
    "print(\"Leverorder: \", tree.print_tree(\"levelorder\"))"
   ]
  }
 ],
 "metadata": {
  "kernelspec": {
   "display_name": "Python 3",
   "language": "python",
   "name": "python3"
  },
  "language_info": {
   "codemirror_mode": {
    "name": "ipython",
    "version": 3
   },
   "file_extension": ".py",
   "mimetype": "text/x-python",
   "name": "python",
   "nbconvert_exporter": "python",
   "pygments_lexer": "ipython3",
   "version": "3.6.5"
  }
 },
 "nbformat": 4,
 "nbformat_minor": 2
}
