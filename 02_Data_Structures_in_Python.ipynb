{
 "cells": [
  {
   "cell_type": "markdown",
   "metadata": {},
   "source": [
    "# Linked Lists"
   ]
  },
  {
   "cell_type": "markdown",
   "metadata": {},
   "source": [
    "## Singly Linked Lists"
   ]
  },
  {
   "cell_type": "code",
   "execution_count": 71,
   "metadata": {},
   "outputs": [],
   "source": [
    "class Node:\n",
    "    def __init__(self, data):\n",
    "        self.data = data\n",
    "        self.next = None\n",
    "        \n",
    "class Linked_List:\n",
    "    def __init__(self):\n",
    "        self.head = None\n",
    "    \n",
    "    def print_ll(self):\n",
    "            node = self.head\n",
    "            out = \"\"\n",
    "            while node:\n",
    "                out = out + node.data\n",
    "                node = node.next\n",
    "            print(out)\n",
    "    \n",
    "    # add new data to our ll\n",
    "    def append(self, data):\n",
    "        new_node = Node(data) # Setting up our new node\n",
    "        \n",
    "        if self.head is None:\n",
    "            self.head = new_node # if the list is empty then we create one\n",
    "            return\n",
    "        \n",
    "        last_node = self.head # if not empty the from the head we go to the last node\n",
    "        while last_node.next:\n",
    "            last_node = last_node.next\n",
    "             \n",
    "        last_node.next = new_node # then from the last node we point to our new node\n",
    "        \n",
    "    # add node to the head position\n",
    "    def prepend(self, data):\n",
    "        new_node = Node(data)\n",
    "        new_node.next = self.head\n",
    "        self.head = new_node\n",
    "        \n",
    "    # add node to any given position \n",
    "    def insert_after(self, data ,x): \n",
    "        new_node = Node(data)\n",
    "        prev = Node(x)\n",
    "        node = self.head\n",
    "        while node:\n",
    "            if node.data == prev.data:\n",
    "                new_node.next = node.next\n",
    "                node.next = new_node\n",
    "            node = node.next\n",
    "  \n",
    "    def del_node(self, data):\n",
    "        node = self.head\n",
    "        \n",
    "        if node.data == data: \n",
    "            self.head = node.next\n",
    "            node = None\n",
    "            return\n",
    "        prev = None\n",
    "        \n",
    "        while node.data != data:\n",
    "            prev = node\n",
    "            node = node.next\n",
    "            if node is None:\n",
    "                return\n",
    "            \n",
    "        prev.next = node.next\n",
    "        node = None\n",
    "    \n",
    "    def del_at_position(self, position):\n",
    "        node = self.head\n",
    "        \n",
    "        # first element \n",
    "        if position == 0:\n",
    "            self.head = node.next\n",
    "            node = None\n",
    "            return\n",
    "        \n",
    "        prev = None\n",
    "        counter = 0\n",
    "        \n",
    "        while node and counter != position:\n",
    "            prev = node\n",
    "            node = node.next\n",
    "            counter += 1\n",
    "            \n",
    "            if node is None:\n",
    "                return\n",
    "        prev.next = node.next\n",
    "        node = None\n",
    "            "
   ]
  },
  {
   "cell_type": "code",
   "execution_count": 74,
   "metadata": {},
   "outputs": [
    {
     "name": "stdout",
     "output_type": "stream",
     "text": [
      "abc\n",
      "Prepend: 'd'\n",
      "dabc\n",
      "insert after 'a' : 'f'\n",
      "dafbc\n",
      "After delete: 'a'\n",
      "dfbc\n",
      "After delete at: 3\n",
      "dfb\n"
     ]
    }
   ],
   "source": [
    "l_list = Linked_List()\n",
    "l_list.append(\"a\")\n",
    "l_list.append(\"b\")\n",
    "l_list.append(\"c\")\n",
    "\n",
    "l_list.print_ll()\n",
    "print(\"Prepend: 'd'\")\n",
    "l_list.prepend(\"d\")\n",
    "l_list.print_ll()\n",
    "\n",
    "print(\"insert after 'a' : 'f'\")\n",
    "l_list.insert_after(\"f\", \"a\")\n",
    "l_list.print_ll()\n",
    "\n",
    "print(\"After delete: 'a'\")\n",
    "l_list.del_node(\"a\")\n",
    "l_list.print_ll()\n",
    "\n",
    "print(\"After delete at: 3\")\n",
    "l_list.del_at_position(3)\n",
    "l_list.print_ll()"
   ]
  },
  {
   "cell_type": "code",
   "execution_count": null,
   "metadata": {},
   "outputs": [],
   "source": [
    " "
   ]
  }
 ],
 "metadata": {
  "kernelspec": {
   "display_name": "Python 3",
   "language": "python",
   "name": "python3"
  },
  "language_info": {
   "codemirror_mode": {
    "name": "ipython",
    "version": 3
   },
   "file_extension": ".py",
   "mimetype": "text/x-python",
   "name": "python",
   "nbconvert_exporter": "python",
   "pygments_lexer": "ipython3",
   "version": "3.6.5"
  }
 },
 "nbformat": 4,
 "nbformat_minor": 2
}
