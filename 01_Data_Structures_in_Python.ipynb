{
 "cells": [
  {
   "cell_type": "markdown",
   "metadata": {},
   "source": [
    "# Stack"
   ]
  },
  {
   "cell_type": "code",
   "execution_count": 70,
   "metadata": {},
   "outputs": [],
   "source": [
    "class Stack():\n",
    "    def __init__(self): # constructor\n",
    "        self.items = [] # empty list\n",
    "    \n",
    "    def push(self, item):\n",
    "        self.items.append(item) # adds an item to the stack\n",
    "    \n",
    "    def pop(self):\n",
    "        return self.items.pop() # removes the most recently added item\n",
    "    \n",
    "    def is_empty(self):\n",
    "        return self.items == [] # returns a boolean whether the list is empty or not\n",
    "    \n",
    "    def top(self):\n",
    "        return self.items[-1] # returns the top most item in the stack\n",
    "    \n",
    "    def get_stack(self):\n",
    "        return self.items # gives the entire stack"
   ]
  },
  {
   "cell_type": "code",
   "execution_count": 71,
   "metadata": {},
   "outputs": [
    {
     "name": "stdout",
     "output_type": "stream",
     "text": [
      "Stack:  ['A', 'B', 'C', 'D']\n",
      "Top:  D\n",
      "After pop:  ['A', 'B', 'C']\n",
      "After pop:  ['A', 'B']\n",
      "After pop:  ['A']\n",
      "After pop:  []\n",
      "is the stack empty? :  True\n"
     ]
    }
   ],
   "source": [
    "s = Stack()\n",
    "s.push('A')\n",
    "s.push('B')\n",
    "s.push('C')\n",
    "s.push('D')\n",
    "print(\"Stack: \",s.get_stack())\n",
    "print(\"Top: \", s.top())\n",
    "for i in range(len(s.items)):\n",
    "    s.pop()\n",
    "    print(\"After pop: \", s.get_stack())\n",
    "print(\"is the stack empty? : \", s.is_empty())"
   ]
  },
  {
   "cell_type": "markdown",
   "metadata": {},
   "source": [
    " ### Practice "
   ]
  },
  {
   "cell_type": "markdown",
   "metadata": {},
   "source": [
    "<b>Q1-</b> Use a stack to check whether or not a string has balanced usage of parenthesis.<br>\n",
    "\n",
    "Eg.: (), [{}], [[[(())]]] are balanced while [[], (([]), {{{ are not"
   ]
  },
  {
   "cell_type": "code",
   "execution_count": 72,
   "metadata": {},
   "outputs": [],
   "source": [
    "# Lets use the stack that we already have defined\n",
    "\n",
    "def match(a, b):\n",
    "    if a == '(' and b == ')' or a == '{' and b == '}' or a =='[' and b == ']':\n",
    "        return True\n",
    "    else:\n",
    "        return False\n",
    "\n",
    "def check_balanced(input_string):\n",
    "    s = Stack()\n",
    "    is_balanced = True\n",
    "    index = 0\n",
    "    \n",
    "    while index < len(input_string) and is_balanced:\n",
    "        element = input_string[index]\n",
    "        if element in \"([{\":\n",
    "            s.push(element)\n",
    "        else:\n",
    "            if s.is_empty():\n",
    "                is_balanced = False\n",
    "            else:\n",
    "                top = s.pop()\n",
    "                if not match(top, element):\n",
    "                    is_balanced = False\n",
    "        index += 1\n",
    "    \n",
    "    if s.is_empty() and is_balanced:\n",
    "        print(\"BALANCED\")\n",
    "    else:\n",
    "        print(\"NOT BALANCED\")\n",
    "    "
   ]
  },
  {
   "cell_type": "code",
   "execution_count": 73,
   "metadata": {},
   "outputs": [
    {
     "name": "stdout",
     "output_type": "stream",
     "text": [
      "BALANCED\n",
      "NOT BALANCED\n",
      "NOT BALANCED\n"
     ]
    }
   ],
   "source": [
    "check_balanced(\"(({[]}))\")\n",
    "check_balanced(\"{(\")\n",
    "check_balanced(\"{{[(]}}\")"
   ]
  },
  {
   "cell_type": "markdown",
   "metadata": {},
   "source": [
    "<b>Q2-</b> Use a stack to convert integer values to binary.<br>\n",
    "\n",
    "Eg.: 28 to 11100"
   ]
  },
  {
   "cell_type": "code",
   "execution_count": 74,
   "metadata": {},
   "outputs": [
    {
     "name": "stdout",
     "output_type": "stream",
     "text": [
      "11110010\n"
     ]
    }
   ],
   "source": [
    "def convert_to_binary(num):\n",
    "    s = Stack()\n",
    "    \n",
    "    while num > 0:\n",
    "        r = num % 2\n",
    "        s.push(r)\n",
    "        num = num // 2 # '//' will get rid of the fractional part\n",
    "    binary = \"\"\n",
    "    \n",
    "    while not s.is_empty():\n",
    "        binary = binary + str(s.pop())\n",
    "        \n",
    "    return binary\n",
    "\n",
    "num = 242\n",
    "print(convert_to_binary(num))"
   ]
  },
  {
   "cell_type": "markdown",
   "metadata": {},
   "source": [
    "<b>Q3-</b> Reverse a string.<br>\n",
    "\n",
    "Eg.: abcd to dcba"
   ]
  },
  {
   "cell_type": "code",
   "execution_count": 85,
   "metadata": {},
   "outputs": [
    {
     "name": "stdout",
     "output_type": "stream",
     "text": [
      "dcba\n"
     ]
    }
   ],
   "source": [
    "def reverse_string(data):\n",
    "    s = Stack()\n",
    "    for i in data:\n",
    "        s.push(i)\n",
    "    o = \"\"\n",
    "    for i in range(len(data)):\n",
    "        o = o + s.pop()\n",
    "    print(o)\n",
    "\n",
    "reverse_string(\"abcd\")"
   ]
  }
 ],
 "metadata": {
  "kernelspec": {
   "display_name": "Python 3",
   "language": "python",
   "name": "python3"
  },
  "language_info": {
   "codemirror_mode": {
    "name": "ipython",
    "version": 3
   },
   "file_extension": ".py",
   "mimetype": "text/x-python",
   "name": "python",
   "nbconvert_exporter": "python",
   "pygments_lexer": "ipython3",
   "version": "3.6.5"
  }
 },
 "nbformat": 4,
 "nbformat_minor": 2
}
